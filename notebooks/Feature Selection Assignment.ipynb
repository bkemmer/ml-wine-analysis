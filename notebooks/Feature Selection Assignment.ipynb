{
 "cells": [
  {
   "cell_type": "code",
   "execution_count": 1,
   "metadata": {},
   "outputs": [],
   "source": [
    "import pandas as pd\n",
    "import numpy as np\n",
    "from sklearn.feature_selection import SelectKBest, chi2\n",
    "from sklearn.preprocessing import StandardScaler"
   ]
  },
  {
   "cell_type": "code",
   "execution_count": 2,
   "metadata": {},
   "outputs": [],
   "source": [
    "def load_wine(normalizar):\n",
    "    # função que carrega os dados do dataset wine, e remove a classe '3' para se tornar um dataset binário\n",
    "    names = ['class','alcohol','malic_acid','ash','alcalinity_of_ash','magnesium','total_phenols','flavanoids','nonflavanoid_phenols'\n",
    "              ,'proanthocyanins','color_intensity','hue','OD280_OD315_of_diluted_wines','proline']\n",
    "    data = pd.read_csv('../Data/wine.data', names=names)\n",
    "    data_binario = data.loc[data[\"class\"] != 3,:]\n",
    "    \n",
    "    if normalizar:\n",
    "        scaler = StandardScaler()\n",
    "        scaler.fit(data_binario.drop('class', axis=1))\n",
    "        X = pd.DataFrame(scaler.transform(data_binario.drop('class', axis=1)), columns=names[1:])\n",
    "    else:\n",
    "        X = data_binario.drop('class', axis=1)\n",
    "    y = data_binario.loc[:,'class']\n",
    "    return X, y"
   ]
  },
  {
   "cell_type": "code",
   "execution_count": 3,
   "metadata": {},
   "outputs": [
    {
     "name": "stdout",
     "output_type": "stream",
     "text": [
      "                Specs         Score\n",
      "12            proline  14497.066903\n",
      "9     color_intensity     45.797138\n",
      "4           magnesium     44.833856\n",
      "3   alcalinity_of_ash     17.573073\n",
      "6          flavanoids     10.517824\n",
      "0             alcohol      5.350222\n",
      "5       total_phenols      4.316162\n"
     ]
    }
   ],
   "source": [
    "X, y = load_wine(normalizar=False)\n",
    "#Encontrar as 5 melhores características do dataset\n",
    "bestfeatures=SelectKBest(score_func=chi2,k=5)\n",
    "fit = bestfeatures.fit(X,y)\n",
    "dfscores=pd.DataFrame(fit.scores_)\n",
    "dfcolumns = pd.DataFrame(X.columns)\n",
    "\n",
    "#Concatenando 2 dataframes para melhor visualização\n",
    "\n",
    "featureScores=pd.concat([dfcolumns,dfscores],axis=1)\n",
    "featureScores.columns=['Specs','Score']\n",
    "print(featureScores.nlargest(7,'Score'))\n"
   ]
  },
  {
   "cell_type": "markdown",
   "metadata": {},
   "source": [
    "#### LAFON-LAFOFRCADE and PEYNAUD*\n",
    "measured the amino acid content of Bordeaux wines and found the white varieties to average\n",
    "higher in proline than the red varieties. Cabernet Sauvignon and Merlot were noted\n",
    "to be particularily high. Seasonal changes were described."
   ]
  },
  {
   "cell_type": "markdown",
   "metadata": {},
   "source": [
    "## Utilizando o método relief"
   ]
  },
  {
   "cell_type": "code",
   "execution_count": 4,
   "metadata": {},
   "outputs": [],
   "source": [
    "def Relief(D, C, S, NoSample, Threshold, Seed):\n",
    "    '''D: Training set\n",
    "    C: class vector\n",
    "    S: Original feature set\n",
    "    NoSample: Number of instances\n",
    "    Threshold: Threshold to select the features\n",
    "    Seed: Seed to random selections\n",
    "    T: Array of selected features\n",
    "    W: Weight of each feature'''\n",
    "    \n",
    "    T = list()\n",
    "    W = np.zeros(len(S))\n",
    "#     import pdb; pdb.set_trace()\n",
    "    np.random.seed(Seed)\n",
    "    random_choice = np.random.randint(low=0, high=len(D), size=NoSample)\n",
    "    \n",
    "    for i in range(NoSample):\n",
    "        \n",
    "        # Randomly choosing an instance x in D\n",
    "        x = D.iloc[random_choice[i]]\n",
    "        # class of the instance x\n",
    "        x_class = C[random_choice[i]]\n",
    "        \n",
    "        # Calculating the euclidean distance vector\n",
    "        ## subsetting by class\n",
    "        same_class = D[C == x_class]\n",
    "        diff_class = D[C != x_class]\n",
    "        \n",
    "        ## broadcasting the instance x in a matrix with the right shape\n",
    "        x_matrix_same = np.array(x) + np.zeros((len(same_class), len(x)))\n",
    "        x_matrix_diff = np.array(x) + np.zeros((len(diff_class), len(x)))\n",
    "        \n",
    "        euclidean_distance_same = np.sqrt(np.sum(np.power(np.add(x_matrix_same, - same_class), 2), axis=1))\n",
    "        euclidean_distance_diff = np.sqrt(np.sum(np.power(np.add(x_matrix_diff, - diff_class), 2), axis=1))\n",
    "        \n",
    "        ## Near Hit: The instance with the minimum Euclidean distance among all the instances of the same class.\n",
    "        ### removing the distance to x\n",
    "        near_hit = np.argmax(euclidean_distance_same == np.min(euclidean_distance_same.drop(random_choice[i])))\n",
    "        ## Near Miss: The instance with the minimum Euclidean distance among all the instances of the different class.\n",
    "        near_miss = np.argmax(euclidean_distance_diff == np.min(euclidean_distance_diff))\n",
    "        ### when A is continuous diff(A,I1,I2) is defined as |value(A,I1) - value(A,I2)| / ( max(A) - min(A) )\n",
    "        # diff near hit\n",
    "        divisor = np.add(D.max(0), - D.min(0))\n",
    "        Diff = np.divide(np.abs(np.add(x, - D.iloc[near_hit])), divisor)\n",
    "        W = np.add(W, np.multiply(Diff, 1/NoSample))\n",
    "    print(W.sort_values(ascending=False))\n",
    "    # return all features which surpass the threshold\n",
    "    return W[W >= Threshold].index"
   ]
  },
  {
   "cell_type": "code",
   "execution_count": 5,
   "metadata": {},
   "outputs": [
    {
     "name": "stdout",
     "output_type": "stream",
     "text": [
      "Help on function Relief in module __main__:\n",
      "\n",
      "Relief(D, C, S, NoSample, Threshold, Seed)\n",
      "    D: Training set\n",
      "    C: class vector\n",
      "    S: Original feature set\n",
      "    NoSample: Number of instances\n",
      "    Threshold: Threshold to select the features\n",
      "    Seed: Seed to random selections\n",
      "    T: Array of selected features\n",
      "    W: Weight of each feature\n",
      "\n"
     ]
    }
   ],
   "source": [
    "help(Relief)"
   ]
  },
  {
   "cell_type": "code",
   "execution_count": 6,
   "metadata": {},
   "outputs": [],
   "source": [
    "X, y = load_wine(True)"
   ]
  },
  {
   "cell_type": "code",
   "execution_count": 7,
   "metadata": {},
   "outputs": [
    {
     "name": "stdout",
     "output_type": "stream",
     "text": [
      "OD280_OD315_of_diluted_wines    0.123513\n",
      "proline                         0.107228\n",
      "nonflavanoid_phenols            0.106289\n",
      "alcohol                         0.104737\n",
      "alcalinity_of_ash               0.101375\n",
      "hue                             0.089542\n",
      "color_intensity                 0.084646\n",
      "total_phenols                   0.082614\n",
      "magnesium                       0.079348\n",
      "proanthocyanins                 0.075079\n",
      "flavanoids                      0.069771\n",
      "ash                             0.065597\n",
      "malic_acid                      0.061594\n",
      "Name: 102, dtype: float64\n",
      "\n",
      "Características selecionadas:\n",
      "\n",
      "Index(['alcohol', 'alcalinity_of_ash', 'nonflavanoid_phenols',\n",
      "       'OD280_OD315_of_diluted_wines', 'proline'],\n",
      "      dtype='object')\n"
     ]
    },
    {
     "name": "stderr",
     "output_type": "stream",
     "text": [
      "/home/bkemmer/.local/lib/python3.6/site-packages/numpy/core/fromnumeric.py:52: FutureWarning: 'argmax' is deprecated, use 'idxmax' instead. The behavior of 'argmax'\n",
      "will be corrected to return the positional maximum in the future.\n",
      "Use 'series.values.argmax' to get the position of the maximum now.\n",
      "  return getattr(obj, method)(*args, **kwds)\n"
     ]
    }
   ],
   "source": [
    "S = X.columns\n",
    "NoSample = 30\n",
    "Threshold = 0.1\n",
    "Seed = 42\n",
    "T = Relief(X, y, S, NoSample, Threshold, Seed)\n",
    "print(\"\\nCaracterísticas selecionadas:\\n\")\n",
    "print(T)"
   ]
  }
 ],
 "metadata": {
  "kernelspec": {
   "display_name": "Python 3",
   "language": "python",
   "name": "python3"
  },
  "language_info": {
   "codemirror_mode": {
    "name": "ipython",
    "version": 3
   },
   "file_extension": ".py",
   "mimetype": "text/x-python",
   "name": "python",
   "nbconvert_exporter": "python",
   "pygments_lexer": "ipython3",
   "version": "3.6.5"
  }
 },
 "nbformat": 4,
 "nbformat_minor": 2
}
