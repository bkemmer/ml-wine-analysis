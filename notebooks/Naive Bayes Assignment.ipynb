{
 "cells": [
  {
   "cell_type": "code",
   "execution_count": 1,
   "metadata": {},
   "outputs": [],
   "source": [
    "import pandas as pd\n",
    "import numpy as np\n",
    "from sklearn.naive_bayes import GaussianNB"
   ]
  },
  {
   "cell_type": "code",
   "execution_count": 2,
   "metadata": {},
   "outputs": [],
   "source": [
    "import warnings\n",
    "import numpy as np\n",
    "import pandas as pd\n",
    "from sklearn.preprocessing import StandardScaler\n",
    "from sklearn.metrics import accuracy_score, precision_score, recall_score, make_scorer\n",
    "from sklearn.model_selection import cross_val_score\n",
    "from sklearn.decomposition import PCA\n",
    "from sklearn.feature_selection import SelectKBest, chi2"
   ]
  },
  {
   "cell_type": "code",
   "execution_count": 3,
   "metadata": {},
   "outputs": [],
   "source": [
    "def load_wine(normalizar):\n",
    "    # função que carrega os dados do dataset wine, e remove a classe '3' para se tornar um dataset binário\n",
    "    names = ['class','alcohol','malic_acid','ash','alcalinity_of_ash','magnesium','total_phenols','flavanoids','nonflavanoid_phenols'\n",
    "              ,'proanthocyanins','color_intensity','hue','OD280_OD315_of_diluted_wines','proline']\n",
    "    data = pd.read_csv('../Data/wine.data', names=names)\n",
    "    data_binario = data.loc[data[\"class\"] != 3,:]\n",
    "    \n",
    "    if normalizar:\n",
    "        scaler = StandardScaler()\n",
    "        scaler.fit(data_binario.drop('class', axis=1))\n",
    "        X = pd.DataFrame(scaler.transform(data_binario.drop('class', axis=1)), columns=names[1:])\n",
    "    else:\n",
    "        X = data_binario.drop('class', axis=1)\n",
    "    y = data_binario.loc[:,'class']\n",
    "    return X, y"
   ]
  },
  {
   "cell_type": "code",
   "execution_count": 4,
   "metadata": {},
   "outputs": [],
   "source": [
    "def metricas(classificador, X, y, folds, seed=42):\n",
    "    np.random.seed(seed)\n",
    "    recall = cross_val_score(classificador, X, y, cv=folds, scoring='recall')\n",
    "    precision = cross_val_score(classificador, X, y, cv=folds, scoring='precision')\n",
    "    accuracy = cross_val_score(classificador, X, y, cv=folds, scoring='accuracy')\n",
    "    return (np.mean(recall), np.mean(precision), np.mean(accuracy))"
   ]
  },
  {
   "cell_type": "code",
   "execution_count": 5,
   "metadata": {},
   "outputs": [
    {
     "name": "stdout",
     "output_type": "stream",
     "text": [
      "Number of mislabeled points out of a total 130 points : 1\n"
     ]
    }
   ],
   "source": [
    "X, y = load_wine(normalizar=False)\n",
    "gnb = GaussianNB()\n",
    "y_pred = gnb.fit(X, y).predict(X)\n",
    "print(\"Number of mislabeled points out of a total %d points : %d\"\n",
    "      % (X.shape[0],(y != y_pred).sum()))"
   ]
  },
  {
   "cell_type": "markdown",
   "metadata": {},
   "source": [
    "#### As we can see, even without normalizing the dataset we can achieve good results."
   ]
  },
  {
   "cell_type": "code",
   "execution_count": 6,
   "metadata": {},
   "outputs": [],
   "source": [
    "# https://towardsdatascience.com/unfolding-na%C3%AFve-bayes-from-scratch-2e86dcae4b01"
   ]
  },
  {
   "cell_type": "markdown",
   "metadata": {},
   "source": [
    "### Testing with all features"
   ]
  },
  {
   "cell_type": "code",
   "execution_count": 10,
   "metadata": {},
   "outputs": [
    {
     "name": "stdout",
     "output_type": "stream",
     "text": [
      "Revocação: 0.9666666666666668\n",
      "Precisão: 0.9714285714285715\n",
      "Acurácia: 0.9697802197802197\n"
     ]
    }
   ],
   "source": [
    "# warnings.filterwarnings('ignore')\n",
    "revocacao, precisao, acuracia = metricas(gnb, X, y, folds=10)\n",
    "print(\"Revocação: \" + str(revocacao))\n",
    "print(\"Precisão: \" + str(precisao))\n",
    "print(\"Acurácia: \" + str(acuracia))"
   ]
  },
  {
   "cell_type": "markdown",
   "metadata": {},
   "source": [
    "### Testing with PCA"
   ]
  },
  {
   "cell_type": "code",
   "execution_count": 27,
   "metadata": {},
   "outputs": [],
   "source": [
    "pca = PCA(n_components=1)\n",
    "X_PCA = pca.fit_transform(X)"
   ]
  },
  {
   "cell_type": "code",
   "execution_count": 29,
   "metadata": {},
   "outputs": [
    {
     "name": "stdout",
     "output_type": "stream",
     "text": [
      "Revocação: 0.9\n",
      "Precisão: 0.9366515837104072\n",
      "Acurácia: 0.9242424242424243\n"
     ]
    }
   ],
   "source": [
    "# warnings.filterwarnings('ignore')\n",
    "revocacao, precisao, acuracia = metricas(gnb, X_PCA, y, folds=4)\n",
    "print(\"Revocação: \" + str(revocacao))\n",
    "print(\"Precisão: \" + str(precisao))\n",
    "print(\"Acurácia: \" + str(acuracia))"
   ]
  },
  {
   "cell_type": "code",
   "execution_count": 31,
   "metadata": {},
   "outputs": [
    {
     "data": {
      "text/html": [
       "<div>\n",
       "<style scoped>\n",
       "    .dataframe tbody tr th:only-of-type {\n",
       "        vertical-align: middle;\n",
       "    }\n",
       "\n",
       "    .dataframe tbody tr th {\n",
       "        vertical-align: top;\n",
       "    }\n",
       "\n",
       "    .dataframe thead th {\n",
       "        text-align: right;\n",
       "    }\n",
       "</style>\n",
       "<table border=\"1\" class=\"dataframe\">\n",
       "  <thead>\n",
       "    <tr style=\"text-align: right;\">\n",
       "      <th></th>\n",
       "      <th>alcohol</th>\n",
       "      <th>alcalinity_of_ash</th>\n",
       "      <th>nonflavanoid_phenols</th>\n",
       "      <th>OD280_OD315_of_diluted_wines</th>\n",
       "      <th>proline</th>\n",
       "    </tr>\n",
       "  </thead>\n",
       "  <tbody>\n",
       "    <tr>\n",
       "      <th>0</th>\n",
       "      <td>14.23</td>\n",
       "      <td>15.6</td>\n",
       "      <td>0.28</td>\n",
       "      <td>3.92</td>\n",
       "      <td>1065</td>\n",
       "    </tr>\n",
       "    <tr>\n",
       "      <th>1</th>\n",
       "      <td>13.20</td>\n",
       "      <td>11.2</td>\n",
       "      <td>0.26</td>\n",
       "      <td>3.40</td>\n",
       "      <td>1050</td>\n",
       "    </tr>\n",
       "    <tr>\n",
       "      <th>2</th>\n",
       "      <td>13.16</td>\n",
       "      <td>18.6</td>\n",
       "      <td>0.30</td>\n",
       "      <td>3.17</td>\n",
       "      <td>1185</td>\n",
       "    </tr>\n",
       "    <tr>\n",
       "      <th>3</th>\n",
       "      <td>14.37</td>\n",
       "      <td>16.8</td>\n",
       "      <td>0.24</td>\n",
       "      <td>3.45</td>\n",
       "      <td>1480</td>\n",
       "    </tr>\n",
       "    <tr>\n",
       "      <th>4</th>\n",
       "      <td>13.24</td>\n",
       "      <td>21.0</td>\n",
       "      <td>0.39</td>\n",
       "      <td>2.93</td>\n",
       "      <td>735</td>\n",
       "    </tr>\n",
       "  </tbody>\n",
       "</table>\n",
       "</div>"
      ],
      "text/plain": [
       "   alcohol  alcalinity_of_ash  nonflavanoid_phenols  \\\n",
       "0    14.23               15.6                  0.28   \n",
       "1    13.20               11.2                  0.26   \n",
       "2    13.16               18.6                  0.30   \n",
       "3    14.37               16.8                  0.24   \n",
       "4    13.24               21.0                  0.39   \n",
       "\n",
       "   OD280_OD315_of_diluted_wines  proline  \n",
       "0                          3.92     1065  \n",
       "1                          3.40     1050  \n",
       "2                          3.17     1185  \n",
       "3                          3.45     1480  \n",
       "4                          2.93      735  "
      ]
     },
     "execution_count": 31,
     "metadata": {},
     "output_type": "execute_result"
    }
   ],
   "source": [
    "### Testing with Relief TOP 5 features\n",
    "relief_features = ['alcohol', 'alcalinity_of_ash', 'nonflavanoid_phenols','OD280_OD315_of_diluted_wines', 'proline']\n",
    "X_relief = X.loc[:,relief_features]\n",
    "X_relief.head()"
   ]
  },
  {
   "cell_type": "code",
   "execution_count": 32,
   "metadata": {},
   "outputs": [
    {
     "name": "stdout",
     "output_type": "stream",
     "text": [
      "Revocação: 0.95\n",
      "Precisão: 0.9705882352941176\n",
      "Acurácia: 0.9621212121212122\n"
     ]
    }
   ],
   "source": [
    "# warnings.filterwarnings('ignore')\n",
    "revocacao, precisao, acuracia = metricas(gnb, X_relief, y, folds=4)\n",
    "print(\"Revocação: \" + str(revocacao))\n",
    "print(\"Precisão: \" + str(precisao))\n",
    "print(\"Acurácia: \" + str(acuracia))"
   ]
  },
  {
   "cell_type": "code",
   "execution_count": null,
   "metadata": {},
   "outputs": [],
   "source": []
  }
 ],
 "metadata": {
  "kernelspec": {
   "display_name": "Python 3",
   "language": "python",
   "name": "python3"
  },
  "language_info": {
   "codemirror_mode": {
    "name": "ipython",
    "version": 3
   },
   "file_extension": ".py",
   "mimetype": "text/x-python",
   "name": "python",
   "nbconvert_exporter": "python",
   "pygments_lexer": "ipython3",
   "version": "3.6.5"
  }
 },
 "nbformat": 4,
 "nbformat_minor": 2
}
