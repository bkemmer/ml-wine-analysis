{
 "cells": [
  {
   "cell_type": "markdown",
   "metadata": {},
   "source": [
    "# Código para fazer uma validação cruzada estratificada"
   ]
  },
  {
   "cell_type": "code",
   "execution_count": 6,
   "metadata": {},
   "outputs": [],
   "source": [
    "import numpy as np\n",
    "import pandas as pd"
   ]
  },
  {
   "cell_type": "code",
   "execution_count": 2,
   "metadata": {},
   "outputs": [],
   "source": [
    "def CrossValidacaoEstratificada(dataset, y, folds=4, seed=42):\n",
    "    np.random.seed(seed)\n",
    "    npY = np.array(y)\n",
    "    fold_classes = list()\n",
    "\n",
    "    #construindo as estruturas\n",
    "    dataset_fold = list()\n",
    "    for i in range(folds):\n",
    "        dataset_fold.append(list())\n",
    "    fold_atual = 0\n",
    "    unicos = np.unique(npY)\n",
    "    for i in range(len(unicos)):\n",
    "        # cria uma lista das classe e os valores os índices(posições) delas no vetor y\n",
    "        fold_classes.append(np.where(npY == unicos[i])[0].tolist())\n",
    "        \n",
    "        while len(fold_classes[i])>0:\n",
    "            # sorteia um elemento do vetor de elementos da mesma classe\n",
    "            if (fold_atual >= folds):\n",
    "                fold_atual = 0\n",
    "            index_elemento = np.random.randint(len(fold_classes[i]))\n",
    "            index = fold_classes[i].pop(index_elemento)\n",
    "            # Adiciona o elemento sorteado no bucket correspondente\n",
    "            dataset_fold[fold_atual].append(index)\n",
    "            fold_atual = fold_atual + 1\n",
    "    for i in range(len(dataset_fold)):\n",
    "        print(\"dataset_fold[\" + str(i) + \"]: \" + str(len(dataset_fold[i])))\n",
    "    return dataset_fold"
   ]
  },
  {
   "cell_type": "markdown",
   "metadata": {},
   "source": [
    "## Testando no dataset utilizado: Wine"
   ]
  },
  {
   "cell_type": "code",
   "execution_count": 3,
   "metadata": {},
   "outputs": [],
   "source": [
    "def load_wine():\n",
    "    # função que carrega os dados do dataset wine, e remove a classe '3' para se tornar um dataset binário\n",
    "    names = ['class','alcohol','malic_acid','ash','alcalinity_of_ash','magnesium','total_phenols','flavanoids','nonflavanoid_phenols'\n",
    "              ,'proanthocyanins','color_intensity','hue','OD280_OD315_of_diluted_wines','proline']\n",
    "    data = pd.read_csv('../Data/wine.data', names=names)\n",
    "    \n",
    "    data_binario = data.loc[data[\"class\"] != 3,:]\n",
    "    # data_binario[\"class\"].unique()\n",
    "    X = data_binario.drop('class', axis=1)\n",
    "    y = data_binario.loc[:,'class']\n",
    "    return X, y"
   ]
  },
  {
   "cell_type": "code",
   "execution_count": 4,
   "metadata": {},
   "outputs": [
    {
     "name": "stdout",
     "output_type": "stream",
     "text": [
      "dataset_fold[0]: 33\n",
      "dataset_fold[1]: 33\n",
      "dataset_fold[2]: 32\n",
      "dataset_fold[3]: 32\n"
     ]
    }
   ],
   "source": [
    "X, y = load_wine()\n",
    "dataset_indexes = CrossValidacaoEstratificada(X, y, folds=4)"
   ]
  },
  {
   "cell_type": "code",
   "execution_count": 5,
   "metadata": {},
   "outputs": [
    {
     "name": "stdout",
     "output_type": "stream",
     "text": [
      "\n",
      "Bucket 0\n",
      "Classe :1\n",
      "15 => 0.45454545454545453\n",
      "Classe :2\n",
      "18 => 0.5454545454545454\n",
      "\n",
      "Bucket 1\n",
      "Classe :1\n",
      "15 => 0.45454545454545453\n",
      "Classe :2\n",
      "18 => 0.5454545454545454\n",
      "\n",
      "Bucket 2\n",
      "Classe :1\n",
      "15 => 0.46875\n",
      "Classe :2\n",
      "17 => 0.53125\n",
      "\n",
      "Bucket 3\n",
      "Classe :1\n",
      "14 => 0.4375\n",
      "Classe :2\n",
      "18 => 0.5625\n"
     ]
    }
   ],
   "source": [
    "# Verificando a proporção por classe em cada bucket\n",
    "for i in range(len(dataset_indexes)):\n",
    "    print(\"\\nBucket \" + str(i))\n",
    "    unicos = np.unique(y[dataset_indexes[i]])\n",
    "    for j in range(len(unicos)):\n",
    "        print(\"Classe :\" + str(unicos[j]))\n",
    "        ones = np.sum(y[dataset_indexes[i]] == unicos[j])\n",
    "        print(str(ones) + \" => \" + str(ones/len(dataset_indexes[i])))"
   ]
  },
  {
   "cell_type": "code",
   "execution_count": null,
   "metadata": {},
   "outputs": [],
   "source": []
  }
 ],
 "metadata": {
  "kernelspec": {
   "display_name": "Python 3",
   "language": "python",
   "name": "python3"
  },
  "language_info": {
   "codemirror_mode": {
    "name": "ipython",
    "version": 3
   },
   "file_extension": ".py",
   "mimetype": "text/x-python",
   "name": "python",
   "nbconvert_exporter": "python",
   "pygments_lexer": "ipython3",
   "version": "3.6.5"
  }
 },
 "nbformat": 4,
 "nbformat_minor": 2
}
