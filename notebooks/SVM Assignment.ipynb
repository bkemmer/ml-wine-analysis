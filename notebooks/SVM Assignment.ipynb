{
 "cells": [
  {
   "cell_type": "code",
   "execution_count": 1,
   "metadata": {},
   "outputs": [],
   "source": [
    "# PCA "
   ]
  },
  {
   "cell_type": "code",
   "execution_count": 2,
   "metadata": {},
   "outputs": [],
   "source": [
    "import warnings\n",
    "%matplotlib inline\n",
    "\n",
    "import pandas as pd\n",
    "import numpy as np\n",
    "import matplotlib.pyplot as plt \n",
    "\n",
    "plt.rcParams['figure.figsize'] = [10, 5]"
   ]
  },
  {
   "cell_type": "code",
   "execution_count": 3,
   "metadata": {},
   "outputs": [],
   "source": [
    "def CrossValidacaoEstratificada(dataset, y, folds=4):\n",
    "    npY = np.array(y)\n",
    "    fold_classes = list()\n",
    "\n",
    "    #construindo as estruturas\n",
    "    dataset_fold = list()\n",
    "    y_fold = list()\n",
    "    for i in range(folds):\n",
    "        dataset_fold.append(list())\n",
    "        y_fold.append(list())\n",
    "    fold_atual = 0\n",
    "    unicos = np.unique(npY)\n",
    "    for i in range(len(unicos)):\n",
    "        # cria uma lista das classe e os valores os índices(posições) delas no vetor y\n",
    "        fold_classes.append(np.where(npY == unicos[i])[0].tolist())\n",
    "        \n",
    "        while len(fold_classes[i])>0:\n",
    "            # sorteia um elemento do vetor de elementos da mesma classe\n",
    "            if (fold_atual >= folds):\n",
    "                fold_atual = 0\n",
    "            index_elemento = np.random.randint(len(fold_classes[i]))\n",
    "            index = fold_classes[i].pop(index_elemento)\n",
    "            # Adiciona o elemento sorteado no bucket correspondente\n",
    "            dataset_fold[fold_atual].append(dataset[index])\n",
    "            y_fold[fold_atual].append(y[index])\n",
    "            fold_atual = fold_atual + 1\n",
    "    for i in range(len(dataset_fold)):\n",
    "        print(\"dataset_fold[\" + str(i) + \"]: \" + str(len(dataset_fold[i])))\n",
    "    return dataset_fold, y_fold"
   ]
  },
  {
   "cell_type": "code",
   "execution_count": 4,
   "metadata": {},
   "outputs": [],
   "source": [
    "names = ['class','alcohol','malic_acid','ash','alcalinity_of_ash','magnesium','total_phenols','flavanoids','nonflavanoid_phenols'\n",
    "          ,'proanthocyanins','color_intensity','hue','OD280_OD315_of_diluted_wines','proline']\n",
    "data = pd.read_csv('../Data/wine.data', names=names)"
   ]
  },
  {
   "cell_type": "code",
   "execution_count": 5,
   "metadata": {},
   "outputs": [
    {
     "data": {
      "text/html": [
       "<div>\n",
       "<style scoped>\n",
       "    .dataframe tbody tr th:only-of-type {\n",
       "        vertical-align: middle;\n",
       "    }\n",
       "\n",
       "    .dataframe tbody tr th {\n",
       "        vertical-align: top;\n",
       "    }\n",
       "\n",
       "    .dataframe thead th {\n",
       "        text-align: right;\n",
       "    }\n",
       "</style>\n",
       "<table border=\"1\" class=\"dataframe\">\n",
       "  <thead>\n",
       "    <tr style=\"text-align: right;\">\n",
       "      <th></th>\n",
       "      <th>class</th>\n",
       "      <th>alcohol</th>\n",
       "      <th>malic_acid</th>\n",
       "      <th>ash</th>\n",
       "      <th>alcalinity_of_ash</th>\n",
       "      <th>magnesium</th>\n",
       "      <th>total_phenols</th>\n",
       "      <th>flavanoids</th>\n",
       "      <th>nonflavanoid_phenols</th>\n",
       "      <th>proanthocyanins</th>\n",
       "      <th>color_intensity</th>\n",
       "      <th>hue</th>\n",
       "      <th>OD280_OD315_of_diluted_wines</th>\n",
       "      <th>proline</th>\n",
       "    </tr>\n",
       "  </thead>\n",
       "  <tbody>\n",
       "    <tr>\n",
       "      <th>0</th>\n",
       "      <td>1</td>\n",
       "      <td>14.23</td>\n",
       "      <td>1.71</td>\n",
       "      <td>2.43</td>\n",
       "      <td>15.6</td>\n",
       "      <td>127</td>\n",
       "      <td>2.80</td>\n",
       "      <td>3.06</td>\n",
       "      <td>0.28</td>\n",
       "      <td>2.29</td>\n",
       "      <td>5.64</td>\n",
       "      <td>1.04</td>\n",
       "      <td>3.92</td>\n",
       "      <td>1065</td>\n",
       "    </tr>\n",
       "    <tr>\n",
       "      <th>1</th>\n",
       "      <td>1</td>\n",
       "      <td>13.20</td>\n",
       "      <td>1.78</td>\n",
       "      <td>2.14</td>\n",
       "      <td>11.2</td>\n",
       "      <td>100</td>\n",
       "      <td>2.65</td>\n",
       "      <td>2.76</td>\n",
       "      <td>0.26</td>\n",
       "      <td>1.28</td>\n",
       "      <td>4.38</td>\n",
       "      <td>1.05</td>\n",
       "      <td>3.40</td>\n",
       "      <td>1050</td>\n",
       "    </tr>\n",
       "    <tr>\n",
       "      <th>2</th>\n",
       "      <td>1</td>\n",
       "      <td>13.16</td>\n",
       "      <td>2.36</td>\n",
       "      <td>2.67</td>\n",
       "      <td>18.6</td>\n",
       "      <td>101</td>\n",
       "      <td>2.80</td>\n",
       "      <td>3.24</td>\n",
       "      <td>0.30</td>\n",
       "      <td>2.81</td>\n",
       "      <td>5.68</td>\n",
       "      <td>1.03</td>\n",
       "      <td>3.17</td>\n",
       "      <td>1185</td>\n",
       "    </tr>\n",
       "    <tr>\n",
       "      <th>3</th>\n",
       "      <td>1</td>\n",
       "      <td>14.37</td>\n",
       "      <td>1.95</td>\n",
       "      <td>2.50</td>\n",
       "      <td>16.8</td>\n",
       "      <td>113</td>\n",
       "      <td>3.85</td>\n",
       "      <td>3.49</td>\n",
       "      <td>0.24</td>\n",
       "      <td>2.18</td>\n",
       "      <td>7.80</td>\n",
       "      <td>0.86</td>\n",
       "      <td>3.45</td>\n",
       "      <td>1480</td>\n",
       "    </tr>\n",
       "    <tr>\n",
       "      <th>4</th>\n",
       "      <td>1</td>\n",
       "      <td>13.24</td>\n",
       "      <td>2.59</td>\n",
       "      <td>2.87</td>\n",
       "      <td>21.0</td>\n",
       "      <td>118</td>\n",
       "      <td>2.80</td>\n",
       "      <td>2.69</td>\n",
       "      <td>0.39</td>\n",
       "      <td>1.82</td>\n",
       "      <td>4.32</td>\n",
       "      <td>1.04</td>\n",
       "      <td>2.93</td>\n",
       "      <td>735</td>\n",
       "    </tr>\n",
       "  </tbody>\n",
       "</table>\n",
       "</div>"
      ],
      "text/plain": [
       "   class  alcohol  malic_acid   ash  alcalinity_of_ash  magnesium  \\\n",
       "0      1    14.23        1.71  2.43               15.6        127   \n",
       "1      1    13.20        1.78  2.14               11.2        100   \n",
       "2      1    13.16        2.36  2.67               18.6        101   \n",
       "3      1    14.37        1.95  2.50               16.8        113   \n",
       "4      1    13.24        2.59  2.87               21.0        118   \n",
       "\n",
       "   total_phenols  flavanoids  nonflavanoid_phenols  proanthocyanins  \\\n",
       "0           2.80        3.06                  0.28             2.29   \n",
       "1           2.65        2.76                  0.26             1.28   \n",
       "2           2.80        3.24                  0.30             2.81   \n",
       "3           3.85        3.49                  0.24             2.18   \n",
       "4           2.80        2.69                  0.39             1.82   \n",
       "\n",
       "   color_intensity   hue  OD280_OD315_of_diluted_wines  proline  \n",
       "0             5.64  1.04                          3.92     1065  \n",
       "1             4.38  1.05                          3.40     1050  \n",
       "2             5.68  1.03                          3.17     1185  \n",
       "3             7.80  0.86                          3.45     1480  \n",
       "4             4.32  1.04                          2.93      735  "
      ]
     },
     "execution_count": 5,
     "metadata": {},
     "output_type": "execute_result"
    }
   ],
   "source": [
    "data.head()"
   ]
  },
  {
   "cell_type": "code",
   "execution_count": 6,
   "metadata": {},
   "outputs": [
    {
     "data": {
      "text/plain": [
       "array([1, 2])"
      ]
     },
     "execution_count": 6,
     "metadata": {},
     "output_type": "execute_result"
    }
   ],
   "source": [
    "data_binario = data.loc[data[\"class\"] != 3,:]\n",
    "data_binario[\"class\"].unique()"
   ]
  },
  {
   "cell_type": "code",
   "execution_count": 7,
   "metadata": {},
   "outputs": [],
   "source": [
    "from sklearn.pipeline import Pipeline\n",
    "from sklearn.preprocessing import StandardScaler\n",
    "from sklearn.model_selection import cross_val_score\n",
    "from sklearn.model_selection import cross_validate\n",
    "from sklearn.svm import LinearSVC\n",
    "from sklearn.svm import SVC\n",
    "from sklearn.metrics import accuracy_score, precision_score, recall_score, make_scorer"
   ]
  },
  {
   "cell_type": "code",
   "execution_count": 8,
   "metadata": {},
   "outputs": [],
   "source": [
    "X = data.drop('class', axis=1)\n",
    "y = data.loc[:,'class']"
   ]
  },
  {
   "cell_type": "markdown",
   "metadata": {},
   "source": [
    "### Testing without Standarization"
   ]
  },
  {
   "cell_type": "code",
   "execution_count": 9,
   "metadata": {},
   "outputs": [],
   "source": [
    "svm_not_scalled = LinearSVC(C=1, loss=\"hinge\")"
   ]
  },
  {
   "cell_type": "code",
   "execution_count": 10,
   "metadata": {},
   "outputs": [
    {
     "name": "stdout",
     "output_type": "stream",
     "text": [
      "[0.84210526 0.83333333 0.77777778 0.88888889 0.44444444 1.\n",
      " 1.         0.88888889 1.         1.        ]\n"
     ]
    }
   ],
   "source": [
    "print(cross_val_score(svm_not_scalled, X, y, cv=10))"
   ]
  },
  {
   "cell_type": "markdown",
   "metadata": {},
   "source": [
    "### Testing with Standarization"
   ]
  },
  {
   "cell_type": "code",
   "execution_count": 11,
   "metadata": {},
   "outputs": [],
   "source": [
    "svm_scalled = Pipeline((\n",
    "                    (\"scaler\", StandardScaler()),\n",
    "                    (\"linear_svc\", LinearSVC(C=1, loss=\"hinge\"))\n",
    "                ))"
   ]
  },
  {
   "cell_type": "code",
   "execution_count": 12,
   "metadata": {
    "scrolled": true
   },
   "outputs": [
    {
     "name": "stdout",
     "output_type": "stream",
     "text": [
      "[0.94736842 0.94444444 1.         0.94444444 1.         0.94444444\n",
      " 1.         1.         1.         1.        ]\n"
     ]
    }
   ],
   "source": [
    "print(cross_val_score(svm_scalled, X, y, cv=10))"
   ]
  },
  {
   "cell_type": "markdown",
   "metadata": {},
   "source": [
    "### Creating methods to test"
   ]
  },
  {
   "cell_type": "code",
   "execution_count": 13,
   "metadata": {},
   "outputs": [],
   "source": [
    "def metricas(classificador, X, y, folds):\n",
    "    weighted_recall_scorer = make_scorer(recall_score, average='weighted')\n",
    "    recall = cross_val_score(classificador, X, y, cv=folds, scoring=weighted_recall_scorer)\n",
    "#     print('Revocação: ', np.mean(recall), recall)\n",
    "    weighted_precision_scorer = make_scorer(precision_score, average='weighted')\n",
    "    precision = cross_val_score(classificador, X, y, cv=folds, scoring=weighted_precision_scorer)\n",
    "#     print('Precisão: ', np.mean(precision), precision)\n",
    "    accuracy = cross_val_score(classificador, X, y, cv=folds, scoring='accuracy')\n",
    "#     print('Acurácia', np.mean(accuracy), accuracy)\n",
    "    return (np.mean(recall), np.mean(precision), np.mean(accuracy))\n",
    "\n",
    "def scalling_and_svc(X, y, kernel=[\"linear\"], C=[1], gamma=[1], degree=[3], folds=10):\n",
    "    result = dict() # cria um dicionário dos resultados, com o índice os kernels\n",
    "    for k in kernel:\n",
    "        paramC = dict()\n",
    "        for i in C:\n",
    "            if k == \"rbf\":\n",
    "                print(\"rbf\")\n",
    "                paramG = dict()\n",
    "                for g in gamma:\n",
    "                    svm_scalled = Pipeline((\n",
    "                                (\"scaler\", StandardScaler()),\n",
    "                                (\"svc\", SVC(kernel=k, gamma=g, C=i))\n",
    "                            ))\n",
    "                    svm_scalled.fit(X, y)\n",
    "                    paramG[\"gamma-\"+str(g)] = metricas(svm_scalled, X, y, folds)\n",
    "                paramC[\"c-\"+str(i)] = paramG \n",
    "            elif k == \"poly\":\n",
    "                print(\"poly\")\n",
    "                paramD = dict()\n",
    "                for d in degree:\n",
    "                    svm_scalled = Pipeline((\n",
    "                                (\"scaler\", StandardScaler()),\n",
    "                                (\"svc\", SVC(kernel=k, C=i, coef0=1, degree=d))\n",
    "                            ))\n",
    "                    svm_scalled.fit(X,y)\n",
    "                    paramD[\"k-\"+str(d)] = metricas(svm_scalled, X, y, folds)\n",
    "                paramC[\"c-\"+str(i)] = paramD\n",
    "            elif k == \"linear\": #case linear\n",
    "                print(\"linear\")\n",
    "                svm_scalled = Pipeline((\n",
    "                                (\"scaler\", StandardScaler()),\n",
    "                                (\"svc\", SVC(kernel=k, C=i))\n",
    "                            ))\n",
    "                svm_scalled.fit(X,y)\n",
    "                paramC[\"c-\"+str(i)] = metricas(svm_scalled, X, y, folds)\n",
    "        result[k] = paramC\n",
    "    return result"
   ]
  },
  {
   "cell_type": "code",
   "execution_count": 14,
   "metadata": {},
   "outputs": [
    {
     "name": "stdout",
     "output_type": "stream",
     "text": [
      "linear\n",
      "linear\n",
      "linear\n",
      "linear\n",
      "linear\n",
      "poly\n",
      "poly\n",
      "poly\n",
      "poly\n",
      "poly\n",
      "rbf\n",
      "rbf\n",
      "rbf\n",
      "rbf\n",
      "rbf\n",
      "{'linear': {'c-0.01': (0.9780701754385965, 0.9814605959342803, 0.9780701754385965), 'c-0.1': (0.9891812865497076, 0.9906920077972711, 0.9891812865497076), 'c-1': (0.9551943584451325, 0.962061833505332, 0.9551943584451325), 'c-10': (0.9610767113863089, 0.9671038503120547, 0.9610767113863089), 'c-100': (0.9610767113863089, 0.9671038503120547, 0.9610767113863089)}, 'poly': {'c-0.01': {'k-3': (0.9230994152046783, 0.9431375576989612, 0.9230994152046783)}, 'c-0.1': {'k-3': (0.983625730994152, 0.9859301030353663, 0.983625730994152)}, 'c-1': {'k-3': (0.9728070175438596, 0.9775577833472571, 0.9728070175438596)}, 'c-10': {'k-3': (0.9728070175438596, 0.9775577833472571, 0.9728070175438596)}, 'c-100': {'k-3': (0.9728070175438596, 0.9775577833472571, 0.9728070175438596)}}, 'rbf': {'c-0.01': {'gamma-0.1': (0.3992539559683522, 0.15968837168785793, 0.3992539559683522), 'gamma-1': (0.3992539559683522, 0.15968837168785793, 0.3992539559683522), 'gamma-10': (0.3992539559683522, 0.15968837168785793, 0.3992539559683522)}, 'c-0.1': {'gamma-0.1': (0.9725146198830409, 0.9761086744639377, 0.9725146198830409), 'gamma-1': (0.3992539559683522, 0.15968837168785793, 0.3992539559683522), 'gamma-10': (0.3992539559683522, 0.15968837168785793, 0.3992539559683522)}, 'c-1': {'gamma-0.1': (0.9780701754385964, 0.9809697855750488, 0.9780701754385964), 'gamma-1': (0.6148864809081528, 0.641840307095725, 0.6148864809081528), 'gamma-10': (0.3992539559683522, 0.15968837168785793, 0.3992539559683522)}, 'c-10': {'gamma-0.1': (0.9780701754385965, 0.9812012670565302, 0.9780701754385965), 'gamma-1': (0.654796611627107, 0.7367635877910645, 0.654796611627107), 'gamma-10': (0.3992539559683522, 0.15968837168785793, 0.3992539559683522)}, 'c-100': {'gamma-0.1': (0.9780701754385965, 0.9812012670565302, 0.9780701754385965), 'gamma-1': (0.654796611627107, 0.7367635877910645, 0.654796611627107), 'gamma-10': (0.3992539559683522, 0.15968837168785793, 0.3992539559683522)}}}\n"
     ]
    }
   ],
   "source": [
    "kernel = [\"linear\", \"poly\", \"rbf\"]\n",
    "pC = [0.01, 0.1, 1, 10, 100]\n",
    "pGamma = [0.1, 1, 10]\n",
    "degree=[3]\n",
    "folds = 10\n",
    "\n",
    "# scalling_and_svc(X=X, y=y, kernel = kernel, C=C )\n",
    "# warnings.filterwarnings(action='once')\n",
    "warnings.filterwarnings('ignore')\n",
    "resultados = scalling_and_svc(X, y, kernel=kernel, C=pC, degree=degree, gamma= pGamma, folds = folds)\n",
    "print(resultados)"
   ]
  },
  {
   "cell_type": "code",
   "execution_count": 15,
   "metadata": {},
   "outputs": [],
   "source": [
    "from sklearn.decomposition import PCA\n",
    "\n",
    "pca = PCA(n_components=1)\n",
    "X_pca = pca.fit(X)"
   ]
  },
  {
   "cell_type": "code",
   "execution_count": 17,
   "metadata": {},
   "outputs": [
    {
     "name": "stdout",
     "output_type": "stream",
     "text": [
      "linear\n",
      "linear\n",
      "linear\n",
      "linear\n",
      "linear\n",
      "poly\n",
      "poly\n",
      "poly\n",
      "poly\n",
      "poly\n",
      "rbf\n",
      "rbf\n",
      "rbf\n",
      "rbf\n",
      "rbf\n",
      "{'linear': {'c-0.01': (0.9780701754385965, 0.9814605959342803, 0.9780701754385965), 'c-0.1': (0.9891812865497076, 0.9906920077972711, 0.9891812865497076), 'c-1': (0.9551943584451325, 0.962061833505332, 0.9551943584451325), 'c-10': (0.9610767113863089, 0.9671038503120547, 0.9610767113863089), 'c-100': (0.9610767113863089, 0.9671038503120547, 0.9610767113863089)}, 'poly': {'c-0.01': {'k-3': (0.9230994152046783, 0.9431375576989612, 0.9230994152046783)}, 'c-0.1': {'k-3': (0.983625730994152, 0.9859301030353663, 0.983625730994152)}, 'c-1': {'k-3': (0.9728070175438596, 0.9775577833472571, 0.9728070175438596)}, 'c-10': {'k-3': (0.9728070175438596, 0.9775577833472571, 0.9728070175438596)}, 'c-100': {'k-3': (0.9728070175438596, 0.9775577833472571, 0.9728070175438596)}}, 'rbf': {'c-0.01': {'gamma-0.1': (0.3992539559683522, 0.15968837168785793, 0.3992539559683522), 'gamma-1': (0.3992539559683522, 0.15968837168785793, 0.3992539559683522), 'gamma-10': (0.3992539559683522, 0.15968837168785793, 0.3992539559683522)}, 'c-0.1': {'gamma-0.1': (0.9725146198830409, 0.9761086744639377, 0.9725146198830409), 'gamma-1': (0.3992539559683522, 0.15968837168785793, 0.3992539559683522), 'gamma-10': (0.3992539559683522, 0.15968837168785793, 0.3992539559683522)}, 'c-1': {'gamma-0.1': (0.9780701754385964, 0.9809697855750488, 0.9780701754385964), 'gamma-1': (0.6148864809081528, 0.641840307095725, 0.6148864809081528), 'gamma-10': (0.3992539559683522, 0.15968837168785793, 0.3992539559683522)}, 'c-10': {'gamma-0.1': (0.9780701754385965, 0.9812012670565302, 0.9780701754385965), 'gamma-1': (0.654796611627107, 0.7367635877910645, 0.654796611627107), 'gamma-10': (0.3992539559683522, 0.15968837168785793, 0.3992539559683522)}, 'c-100': {'gamma-0.1': (0.9780701754385965, 0.9812012670565302, 0.9780701754385965), 'gamma-1': (0.654796611627107, 0.7367635877910645, 0.654796611627107), 'gamma-10': (0.3992539559683522, 0.15968837168785793, 0.3992539559683522)}}}\n"
     ]
    }
   ],
   "source": [
    "kernel = [\"linear\", \"poly\", \"rbf\"]\n",
    "pC = [0.01, 0.1, 1, 10, 100]\n",
    "pGamma = [0.1, 1, 10]\n",
    "degree=[3]\n",
    "folds = 10\n",
    "\n",
    "# scalling_and_svc(X=X, y=y, kernel = kernel, C=C )\n",
    "# warnings.filterwarnings(action='once')\n",
    "warnings.filterwarnings('ignore')\n",
    "resultados = scalling_and_svc(X, y, kernel=kernel, C=pC, degree=degree, gamma= pGamma, folds = folds)\n",
    "print(resultados)"
   ]
  }
 ],
 "metadata": {
  "kernelspec": {
   "display_name": "Python 3",
   "language": "python",
   "name": "python3"
  },
  "language_info": {
   "codemirror_mode": {
    "name": "ipython",
    "version": 3
   },
   "file_extension": ".py",
   "mimetype": "text/x-python",
   "name": "python",
   "nbconvert_exporter": "python",
   "pygments_lexer": "ipython3",
   "version": "3.6.5"
  }
 },
 "nbformat": 4,
 "nbformat_minor": 2
}
