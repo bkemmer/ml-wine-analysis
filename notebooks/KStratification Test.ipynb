{
 "cells": [
  {
   "cell_type": "code",
   "execution_count": null,
   "metadata": {},
   "outputs": [],
   "source": [
    "# Testing the StratifiedKFold cross validation from scikit-learn"
   ]
  },
  {
   "cell_type": "code",
   "execution_count": 3,
   "metadata": {},
   "outputs": [],
   "source": [
    "import numpy as np\n",
    "from sklearn.model_selection import StratifiedKFold"
   ]
  },
  {
   "cell_type": "code",
   "execution_count": 12,
   "metadata": {},
   "outputs": [],
   "source": [
    "X = np.array([[1,2,3], [3,4,5], [1,2,3], [3,4,5]])\n",
    "y = np.array([0, 0, 1, 1])"
   ]
  },
  {
   "cell_type": "code",
   "execution_count": 16,
   "metadata": {},
   "outputs": [
    {
     "data": {
      "text/plain": [
       "2"
      ]
     },
     "execution_count": 16,
     "metadata": {},
     "output_type": "execute_result"
    }
   ],
   "source": [
    "skf = StratifiedKFold(n_splits=2)\n",
    "skf.get_n_splits(X,y)"
   ]
  },
  {
   "cell_type": "code",
   "execution_count": 17,
   "metadata": {},
   "outputs": [
    {
     "name": "stdout",
     "output_type": "stream",
     "text": [
      "StratifiedKFold(n_splits=2, random_state=None, shuffle=False)\n"
     ]
    }
   ],
   "source": [
    "print(skf)"
   ]
  },
  {
   "cell_type": "code",
   "execution_count": 18,
   "metadata": {},
   "outputs": [
    {
     "name": "stdout",
     "output_type": "stream",
     "text": [
      "TRAIN: [1 3] TEST: [0 2]\n",
      "TRAIN: [0 2] TEST: [1 3]\n"
     ]
    }
   ],
   "source": [
    "for train_index, test_index in skf.split(X, y):\n",
    "    print(\"TRAIN:\", train_index, \"TEST:\", test_index)\n",
    "    X_train, X_test =  X[train_index], X[test_index]\n",
    "    y_train, y_test = y[train_index], y[test_index]"
   ]
  },
  {
   "cell_type": "code",
   "execution_count": 102,
   "metadata": {},
   "outputs": [],
   "source": [
    "from random import randrange\n",
    "# Split a dataset into k folds\n",
    "def cross_validation_split(dataset, folds=3):\n",
    "    dataset_split = list()\n",
    "    dataset_copy = list(dataset)\n",
    "    fold_size = int(len(dataset) / folds)\n",
    "    for i in range(folds):\n",
    "        fold = list()\n",
    "        while len(fold) < fold_size:\n",
    "            index = randrange(len(dataset_copy))\n",
    "            fold.append(dataset_copy.pop(index))\n",
    "        dataset_split.append(fold)\n",
    "    return dataset_split"
   ]
  },
  {
   "cell_type": "code",
   "execution_count": 103,
   "metadata": {},
   "outputs": [
    {
     "data": {
      "text/plain": [
       "[[10, 11, 8, 3], [5, 1, 7, 4], [12, 2, 6, 9]]"
      ]
     },
     "execution_count": 103,
     "metadata": {},
     "output_type": "execute_result"
    }
   ],
   "source": [
    "dataset = [1,2,3,4,5,6,7,8,9,10,11,12]\n",
    "a = cross_validation_split(dataset)\n",
    "a"
   ]
  },
  {
   "cell_type": "code",
   "execution_count": 37,
   "metadata": {},
   "outputs": [],
   "source": [
    "b = [1,1,1,0,0,2,2,1,1,0,2,1]"
   ]
  },
  {
   "cell_type": "code",
   "execution_count": 97,
   "metadata": {},
   "outputs": [
    {
     "data": {
      "text/plain": [
       "array([0, 1, 2])"
      ]
     },
     "execution_count": 97,
     "metadata": {},
     "output_type": "execute_result"
    }
   ],
   "source": [
    "np.unique(b)"
   ]
  },
  {
   "cell_type": "code",
   "execution_count": 126,
   "metadata": {},
   "outputs": [
    {
     "name": "stdout",
     "output_type": "stream",
     "text": [
      "dataset_fold:  {0: [17, 16], 1: [10], 2: [4], 3: [5]} \n",
      " y_fold:  {0: [0, 0], 1: [0], 2: [0], 3: [0]}\n",
      "dataset_fold:  {0: [17, 16, 20, 8], 1: [10, 9, 12, 1], 2: [4, 3, 2, 14], 3: [5, 15, 13]} \n",
      " y_fold:  {0: [0, 0, 1, 1], 1: [0, 1, 1, 1], 2: [0, 1, 1, 1], 3: [0, 1, 1]}\n",
      "dataset_fold:  {0: [17, 16, 20, 8, 19], 1: [10, 9, 12, 1, 7], 2: [4, 3, 2, 14, 6], 3: [5, 15, 13, 18, 11]} \n",
      " y_fold:  {0: [0, 0, 1, 1, 2], 1: [0, 1, 1, 1, 2], 2: [0, 1, 1, 1, 2], 3: [0, 1, 1, 2, 2]}\n"
     ]
    }
   ],
   "source": [
    "folds = 4\n",
    "dataset = [1,2,3,4,5,6,7,8,9,10,11,12,13,14,15,16,17,18,19,20]\n",
    "y = [1,1,1,0,0,2,2,1,1,0,2,1,1,1,1,0,0,2,2,1]\n",
    "npY = np.array(y)\n",
    "dataset_dividido = list()\n",
    "dataset_original = list(dataset)\n",
    "fold_tamanho = int(len(dataset)/folds) #?\n",
    "fold_classes = dict()\n",
    "\n",
    "#construindo as estruturas\n",
    "dataset_fold = dict()\n",
    "y_fold = dict()\n",
    "for i in range(folds):\n",
    "    dataset_fold[i] = list()\n",
    "    y_fold[i] = list()\n",
    "fold_atual = 0\n",
    "for i in np.unique(npY):\n",
    "    # cria um dicionário com a chave sendo a classe e os valores os índices(posições) delas no vetor y\n",
    "    fold_classes[i] = np.where(npY == i)[0].tolist()\n",
    "    \n",
    "    while len(fold_classes[i])>0:\n",
    "        # sorteia um elemento do vetor de elementos da mesma classe\n",
    "        if (fold_atual >= folds):\n",
    "            fold_atual = 0\n",
    "        index_elemento = np.random.randint(len(fold_classes[i]))\n",
    "        index = fold_classes[i].pop(index_elemento)\n",
    "        dataset_fold[fold_atual].append(dataset[index])\n",
    "        y_fold[fold_atual].append(y[index])\n",
    "        fold_atual = fold_atual + 1\n",
    "    \n",
    "    print(\"dataset_fold: \", dataset_fold,\"\\n y_fold: \", y_fold)"
   ]
  },
  {
   "cell_type": "code",
   "execution_count": 67,
   "metadata": {},
   "outputs": [
    {
     "data": {
      "text/plain": [
       "(array([ 0,  1,  2,  7,  8, 11, 12, 13, 14, 19]),)"
      ]
     },
     "execution_count": 67,
     "metadata": {},
     "output_type": "execute_result"
    }
   ],
   "source": [
    "np.where(npY == 1)"
   ]
  },
  {
   "cell_type": "code",
   "execution_count": 92,
   "metadata": {},
   "outputs": [
    {
     "data": {
      "text/plain": [
       "5"
      ]
     },
     "execution_count": 92,
     "metadata": {},
     "output_type": "execute_result"
    }
   ],
   "source": [
    "len(fold_classes[0])"
   ]
  },
  {
   "cell_type": "code",
   "execution_count": 112,
   "metadata": {},
   "outputs": [
    {
     "data": {
      "text/plain": [
       "{1: []}"
      ]
     },
     "execution_count": 112,
     "metadata": {},
     "output_type": "execute_result"
    }
   ],
   "source": [
    "k = 1\n",
    "dataset_fold = dict()\n",
    "dataset_fold[k] = list()\n",
    "dataset_fold"
   ]
  },
  {
   "cell_type": "code",
   "execution_count": 51,
   "metadata": {},
   "outputs": [
    {
     "data": {
      "text/plain": [
       "0.5"
      ]
     },
     "execution_count": 51,
     "metadata": {},
     "output_type": "execute_result"
    }
   ],
   "source": [
    "y = [1,1,1,0,0,2,2,1,1,0,2,1]\n",
    "# int(y.count(1)/4)\n",
    "y.count(1)/len(y)"
   ]
  }
 ],
 "metadata": {
  "kernelspec": {
   "display_name": "Python 3",
   "language": "python",
   "name": "python3"
  },
  "language_info": {
   "codemirror_mode": {
    "name": "ipython",
    "version": 3
   },
   "file_extension": ".py",
   "mimetype": "text/x-python",
   "name": "python",
   "nbconvert_exporter": "python",
   "pygments_lexer": "ipython3",
   "version": "3.6.5"
  }
 },
 "nbformat": 4,
 "nbformat_minor": 2
}
